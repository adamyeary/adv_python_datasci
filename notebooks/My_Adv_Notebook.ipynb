{
 "cells": [
  {
   "cell_type": "markdown",
   "id": "ea3cd48d-4874-49c4-afca-6eb23a45e1a5",
   "metadata": {},
   "source": [
    "targets are typically a dataframe or series\n",
    "features are pandas series"
   ]
  },
  {
   "cell_type": "code",
   "execution_count": 1,
   "id": "e67c1695-0b4d-4eda-9f5b-b7fe07016869",
   "metadata": {},
   "outputs": [],
   "source": [
    "import pandas as pd\n",
    "import numpy as np\n",
    "import my_module"
   ]
  },
  {
   "cell_type": "code",
   "execution_count": null,
   "id": "e5354b05-9bb7-42cb-a96d-0078c1839455",
   "metadata": {},
   "outputs": [],
   "source": [
    "f, t = my_module.get_features_and_target(\n",
    "    csv_file='../data/adult-census.csv',\n",
    "    target_col='class',\n",
    ")"
   ]
  },
  {
   "cell_type": "code",
   "execution_count": null,
   "id": "2cf5c2ec-a954-4e4a-9a6f-33be2c6a88f6",
   "metadata": {},
   "outputs": [],
   "source": [
    "f.head"
   ]
  },
  {
   "cell_type": "code",
   "execution_count": null,
   "id": "6221e4d1-d8cb-4f9c-97bc-10af025e464c",
   "metadata": {},
   "outputs": [],
   "source": [
    "t.head"
   ]
  },
  {
   "cell_type": "code",
   "execution_count": null,
   "id": "af60aebc-907d-4cca-877a-307ba6b3e2de",
   "metadata": {},
   "outputs": [],
   "source": []
  }
 ],
 "metadata": {
  "kernelspec": {
   "display_name": "Python 3 (ipykernel)",
   "language": "python",
   "name": "python3"
  },
  "language_info": {
   "codemirror_mode": {
    "name": "ipython",
    "version": 3
   },
   "file_extension": ".py",
   "mimetype": "text/x-python",
   "name": "python",
   "nbconvert_exporter": "python",
   "pygments_lexer": "ipython3",
   "version": "3.9.7"
  }
 },
 "nbformat": 4,
 "nbformat_minor": 5
}
